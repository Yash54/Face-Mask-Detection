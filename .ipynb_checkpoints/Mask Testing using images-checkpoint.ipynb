{
 "cells": [
  {
   "cell_type": "code",
   "execution_count": 1,
   "id": "3bb25ef7",
   "metadata": {},
   "outputs": [],
   "source": [
    "from tensorflow.keras.applications.mobilenet_v2 import preprocess_input\n",
    "from tensorflow.keras.preprocessing.image import img_to_array\n",
    "from tensorflow.keras.models import load_model\n",
    "import numpy as np\n",
    "import cv2\n",
    "import os\n",
    "import imutils"
   ]
  },
  {
   "cell_type": "code",
   "execution_count": 2,
   "id": "f1db8f64",
   "metadata": {},
   "outputs": [],
   "source": [
    "prototxtPath=os.path.sep.join([r'C:\\Yash\\College\\SEM 6\\SDP\\Project 3.0','deploy.prototxt'])\n",
    "weightsPath=os.path.sep.join([r'C:\\Yash\\College\\SEM 6\\SDP\\Project 3.0','res10_300x300_ssd_iter_140000.caffemodel'])"
   ]
  },
  {
   "cell_type": "code",
   "execution_count": 3,
   "id": "f1f0dc53",
   "metadata": {},
   "outputs": [
    {
     "data": {
      "text/plain": [
       "'C:\\\\Yash\\\\College\\\\SEM 6\\\\SDP\\\\Project 3.0\\\\deploy.prototxt'"
      ]
     },
     "execution_count": 3,
     "metadata": {},
     "output_type": "execute_result"
    }
   ],
   "source": [
    "prototxtPath"
   ]
  },
  {
   "cell_type": "code",
   "execution_count": 4,
   "id": "09d89dad",
   "metadata": {},
   "outputs": [],
   "source": [
    "net=cv2.dnn.readNet(prototxtPath,weightsPath)"
   ]
  },
  {
   "cell_type": "code",
   "execution_count": 5,
   "id": "c9be17ee",
   "metadata": {},
   "outputs": [],
   "source": [
    "model=load_model(r'C:\\Yash\\College\\SEM 6\\SDP\\Project 3.0\\mobilenet_v2.model')"
   ]
  },
  {
   "cell_type": "code",
   "execution_count": 6,
   "id": "1b602cab",
   "metadata": {},
   "outputs": [],
   "source": [
    "image=cv2.imread(r\"C:\\Yash\\College\\SEM 6\\SDP\\Project 3.0\\with_mask271.jpg\",1)"
   ]
  },
  {
   "cell_type": "code",
   "execution_count": 7,
   "id": "3d7e6f12",
   "metadata": {},
   "outputs": [],
   "source": [
    "(h,w)=image.shape[:2]"
   ]
  },
  {
   "cell_type": "code",
   "execution_count": 8,
   "id": "ce081d4c",
   "metadata": {},
   "outputs": [
    {
     "data": {
      "text/plain": [
       "(349, 357)"
      ]
     },
     "execution_count": 8,
     "metadata": {},
     "output_type": "execute_result"
    }
   ],
   "source": [
    "(h,w)"
   ]
  },
  {
   "cell_type": "code",
   "execution_count": 9,
   "id": "92ff35ae",
   "metadata": {},
   "outputs": [],
   "source": [
    "blob=cv2.dnn.blobFromImage(image,1.0,(300,300),(104.0,177.0,123.0))"
   ]
  },
  {
   "cell_type": "code",
   "execution_count": 10,
   "id": "a10856ee",
   "metadata": {},
   "outputs": [
    {
     "data": {
      "text/plain": [
       "array([[[[132., 132., 132., ..., 126., 126., 149.],\n",
       "         [132., 132., 132., ..., 126., 126., 148.],\n",
       "         [132., 132., 132., ..., 126., 126., 148.],\n",
       "         ...,\n",
       "         [142., 142., 142., ..., 145., 144.,  57.],\n",
       "         [147., 147., 147., ..., 150., 150., 151.],\n",
       "         [147., 147., 147., ..., 151., 149., 151.]],\n",
       "\n",
       "        [[ 55.,  55.,  55., ...,  48.,  48.,  75.],\n",
       "         [ 55.,  55.,  55., ...,  48.,  48.,  75.],\n",
       "         [ 55.,  55.,  55., ...,  48.,  48.,  75.],\n",
       "         ...,\n",
       "         [ 71.,  71.,  70., ...,  72.,  71., -16.],\n",
       "         [ 78.,  78.,  78., ...,  77.,  77.,  78.],\n",
       "         [ 78.,  78.,  78., ...,  78.,  76.,  78.]],\n",
       "\n",
       "        [[108., 108., 108., ..., 103., 103., 129.],\n",
       "         [108., 108., 108., ..., 103., 103., 129.],\n",
       "         [108., 108., 108., ..., 103., 103., 129.],\n",
       "         ...,\n",
       "         [119., 121., 123., ..., 126., 125.,  38.],\n",
       "         [130., 131., 132., ..., 131., 131., 132.],\n",
       "         [129., 130., 132., ..., 132., 130., 132.]]]], dtype=float32)"
      ]
     },
     "execution_count": 10,
     "metadata": {},
     "output_type": "execute_result"
    }
   ],
   "source": [
    "blob"
   ]
  },
  {
   "cell_type": "code",
   "execution_count": 11,
   "id": "a9eea0c1",
   "metadata": {},
   "outputs": [
    {
     "data": {
      "text/plain": [
       "(1, 3, 300, 300)"
      ]
     },
     "execution_count": 11,
     "metadata": {},
     "output_type": "execute_result"
    }
   ],
   "source": [
    "blob.shape"
   ]
  },
  {
   "cell_type": "code",
   "execution_count": 12,
   "id": "ac6911d3",
   "metadata": {},
   "outputs": [],
   "source": [
    "net.setInput(blob)\n",
    "detections=net.forward()"
   ]
  },
  {
   "cell_type": "code",
   "execution_count": 13,
   "id": "c0f44594",
   "metadata": {},
   "outputs": [
    {
     "data": {
      "text/plain": [
       "array([[[[0.        , 1.        , 0.9982408 , ..., 0.13025507,\n",
       "          0.6829372 , 0.5810685 ],\n",
       "         [0.        , 1.        , 0.12245248, ..., 4.008201  ,\n",
       "          4.841736  , 4.9859757 ],\n",
       "         [0.        , 1.        , 0.11957642, ..., 4.0094647 ,\n",
       "          0.82998705, 4.9881616 ],\n",
       "         ...,\n",
       "         [0.        , 0.        , 0.        , ..., 0.        ,\n",
       "          0.        , 0.        ],\n",
       "         [0.        , 0.        , 0.        , ..., 0.        ,\n",
       "          0.        , 0.        ],\n",
       "         [0.        , 0.        , 0.        , ..., 0.        ,\n",
       "          0.        , 0.        ]]]], dtype=float32)"
      ]
     },
     "execution_count": 13,
     "metadata": {},
     "output_type": "execute_result"
    }
   ],
   "source": [
    "detections"
   ]
  },
  {
   "cell_type": "code",
   "execution_count": 14,
   "id": "1dac9ac6",
   "metadata": {},
   "outputs": [],
   "source": [
    "#loop over the detections\n",
    "for i in range(0,detections.shape[2]):\n",
    "    confidence=detections[0,0,i,2]\n",
    "    \n",
    "    \n",
    "    if confidence>0.5:\n",
    "        #we need the X,Y coordinates\n",
    "        box=detections[0,0,i,3:7]*np.array([w,h,w,h])\n",
    "        (startX,startY,endX,endY)=box.astype('int')\n",
    "        \n",
    "        #ensure the bounding boxes fall within the dimensions of the frame\n",
    "        (startX,startY)=(max(0,startX),max(0,startY))\n",
    "        (endX,endY)=(min(w-1,endX), min(h-1,endY))\n",
    "        \n",
    "        \n",
    "        #extract the face ROI, convert it from BGR to RGB channel, resize it to 224,224 and preprocess it\n",
    "        face=image[startY:endY, startX:endX]\n",
    "        face=cv2.cvtColor(face,cv2.COLOR_BGR2RGB)\n",
    "        face=cv2.resize(face,(224,224))\n",
    "        face=img_to_array(face)\n",
    "        face=preprocess_input(face)\n",
    "        face=np.expand_dims(face,axis=0)\n",
    "        \n",
    "        (mask,withoutMask)=model.predict(face)[0]\n",
    "        \n",
    "        #determine the class label and color we will use to draw the bounding box and text\n",
    "        label='Mask' if mask>withoutMask else 'No Mask'\n",
    "        color=(0,255,0) if label=='Mask' else (0,0,255)\n",
    "        \n",
    "        #include the probability in the label\n",
    "        label=\"{}: {:.2f}%\".format(label,max(mask,withoutMask)*100)\n",
    "        \n",
    "        #display the label and bounding boxes\n",
    "        cv2.putText(image,label,(startX,startY-10),cv2.FONT_HERSHEY_SIMPLEX,0.45,color,2)\n",
    "        cv2.rectangle(image,(startX,startY),(endX,endY),color,2)"
   ]
  },
  {
   "cell_type": "code",
   "execution_count": 15,
   "id": "173896b0",
   "metadata": {},
   "outputs": [],
   "source": []
  },
  {
   "cell_type": "code",
   "execution_count": null,
   "id": "b1b9001d",
   "metadata": {},
   "outputs": [],
   "source": []
  }
 ],
 "metadata": {
  "kernelspec": {
   "display_name": "Python 3 (ipykernel)",
   "language": "python",
   "name": "python3"
  },
  "language_info": {
   "codemirror_mode": {
    "name": "ipython",
    "version": 3
   },
   "file_extension": ".py",
   "mimetype": "text/x-python",
   "name": "python",
   "nbconvert_exporter": "python",
   "pygments_lexer": "ipython3",
   "version": "3.9.7"
  }
 },
 "nbformat": 4,
 "nbformat_minor": 5
}
